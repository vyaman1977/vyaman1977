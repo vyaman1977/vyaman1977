{
  "nbformat": 4,
  "nbformat_minor": 0,
  "metadata": {
    "colab": {
      "name": "Untitled23.ipynb",
      "provenance": [],
      "authorship_tag": "ABX9TyOpnChJPFT+CSUXEt/sKu+E",
      "include_colab_link": true
    },
    "kernelspec": {
      "name": "python3",
      "display_name": "Python 3"
    },
    "language_info": {
      "name": "python"
    }
  },
  "cells": [
    {
      "cell_type": "markdown",
      "metadata": {
        "id": "view-in-github",
        "colab_type": "text"
      },
      "source": [
        "<a href=\"https://colab.research.google.com/github/vyaman1977/vyaman1977/blob/main/Front-Back%20Char.ipynb\" target=\"_parent\"><img src=\"https://colab.research.google.com/assets/colab-badge.svg\" alt=\"Open In Colab\"/></a>"
      ]
    },
    {
      "cell_type": "code",
      "execution_count": null,
      "metadata": {
        "id": "BYXl4dkcF6pZ"
      },
      "outputs": [],
      "source": [
        "def front_back(word):\n",
        "  a = word[0]\n",
        "  b = word[-1]\n",
        "  c = word[1:-1]\n",
        "  if len(word)==1:\n",
        "    sonuc = a\n",
        "  else :\n",
        "    sonuc = b + c + a\n",
        "  return sonuc\n"
      ]
    }
  ]
}