{
  "nbformat": 4,
  "nbformat_minor": 0,
  "metadata": {
    "colab": {
      "name": "Untitled11.ipynb",
      "provenance": [],
      "authorship_tag": "ABX9TyPrAf8OE/1e6LNFosDMCv4g",
      "include_colab_link": true
    },
    "kernelspec": {
      "name": "python3",
      "display_name": "Python 3"
    },
    "language_info": {
      "name": "python"
    }
  },
  "cells": [
    {
      "cell_type": "markdown",
      "metadata": {
        "id": "view-in-github",
        "colab_type": "text"
      },
      "source": [
        "<a href=\"https://colab.research.google.com/github/vyaman1977/vyaman1977/blob/main/Assignment%20-%20010/02%20(Comfortable%20Words).ipynb\" target=\"_parent\"><img src=\"https://colab.research.google.com/assets/colab-badge.svg\" alt=\"Open In Colab\"/></a>"
      ]
    },
    {
      "cell_type": "code",
      "metadata": {
        "id": "2h9ZcXaxzF45"
      },
      "source": [
        "word = input(\"Enter a word:   \")\n",
        "word = set(word)\n",
        "left_hand = \"qwertasdfgzxcvb\"\n",
        "right_hand = \"yuıopğühjklşinmöç\"\n",
        "text = bool(word.intersection(left_hand) and word.intersection(right_hand))\n",
        "print(text)"
      ],
      "execution_count": null,
      "outputs": []
    }
  ]
}