{
  "nbformat": 4,
  "nbformat_minor": 0,
  "metadata": {
    "colab": {
      "name": "Untitled2.ipynb",
      "provenance": [],
      "authorship_tag": "ABX9TyND7Gn1fXAMUxYtg+OZ9gri",
      "include_colab_link": true
    },
    "kernelspec": {
      "name": "python3",
      "display_name": "Python 3"
    },
    "language_info": {
      "name": "python"
    }
  },
  "cells": [
    {
      "cell_type": "markdown",
      "metadata": {
        "id": "view-in-github",
        "colab_type": "text"
      },
      "source": [
        "<a href=\"https://colab.research.google.com/github/vyaman1977/vyaman1977/blob/main/Assignment%20-%20010/01%20(Profit%20Calculator).ipynb\" target=\"_parent\"><img src=\"https://colab.research.google.com/assets/colab-badge.svg\" alt=\"Open In Colab\"/></a>"
      ]
    },
    {
      "cell_type": "code",
      "metadata": {
        "id": "NdT2Eip3tyXv"
      },
      "source": [
        "n=1000\n",
        "a1=n+n*0.07\n",
        "a2=a1+a1*0.07\n",
        "a3=a2+a2*0.07\n",
        "a4=a3+a3*0.07\n",
        "a5=a4+a4*0.07\n",
        "a6=a5+a5*0.07\n",
        "a7=a6+a6*0.07\n",
        "print(a7)\n",
        "1605.78149"
      ],
      "execution_count": null,
      "outputs": []
    }
  ]
}