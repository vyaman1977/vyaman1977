{
  "nbformat": 4,
  "nbformat_minor": 0,
  "metadata": {
    "colab": {
      "name": "Untitled0.ipynb",
      "provenance": [],
      "authorship_tag": "ABX9TyN9NVAtPTt9ISLduSpTO/nh",
      "include_colab_link": true
    },
    "kernelspec": {
      "name": "python3",
      "display_name": "Python 3"
    },
    "language_info": {
      "name": "python"
    }
  },
  "cells": [
    {
      "cell_type": "markdown",
      "metadata": {
        "id": "view-in-github",
        "colab_type": "text"
      },
      "source": [
        "<a href=\"https://colab.research.google.com/github/vyaman1977/vyaman1977/blob/main/Assignment%20-%20010/03%20(Covid%20-%2019%20Risk).ipynb\" target=\"_parent\"><img src=\"https://colab.research.google.com/assets/colab-badge.svg\" alt=\"Open In Colab\"/></a>"
      ]
    },
    {
      "cell_type": "code",
      "metadata": {
        "id": "ubLGDQBmtAUn"
      },
      "source": [
        "age = True\n",
        "\n",
        "chronic = True\n",
        "\n",
        "immune = True\n",
        "\n",
        "risk = age or chronic or immune\n",
        "\n",
        "print(risk)\n",
        "\n",
        "True"
      ],
      "execution_count": null,
      "outputs": []
    }
  ]
}