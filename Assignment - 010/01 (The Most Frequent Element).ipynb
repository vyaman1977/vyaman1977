{
  "nbformat": 4,
  "nbformat_minor": 0,
  "metadata": {
    "colab": {
      "name": "Untitled1.ipynb",
      "provenance": [],
      "authorship_tag": "ABX9TyPSlw9K3jeS/5QmecpUA3Qb",
      "include_colab_link": true
    },
    "kernelspec": {
      "name": "python3",
      "display_name": "Python 3"
    },
    "language_info": {
      "name": "python"
    }
  },
  "cells": [
    {
      "cell_type": "markdown",
      "metadata": {
        "id": "view-in-github",
        "colab_type": "text"
      },
      "source": [
        "<a href=\"https://colab.research.google.com/github/vyaman1977/vyaman1977/blob/main/Assignment%20-%20010/01%20(The%20Most%20Frequent%20Element).ipynb\" target=\"_parent\"><img src=\"https://colab.research.google.com/assets/colab-badge.svg\" alt=\"Open In Colab\"/></a>"
      ]
    },
    {
      "cell_type": "code",
      "metadata": {
        "id": "iCDrfNfltSSy"
      },
      "source": [
        "numbers = [1, 3, 7, 4, 3, 0, 3, 6, 3]\n",
        "a = \"the most frequent number is\"\n",
        "b = \"and it was\"\n",
        "c = \"times repeated\"\n",
        "number_1 = max(numbers, key=numbers.count)\n",
        "number_2 = numbers.count(number_1)\n",
        "print(\"{} {} {} {} {}\".format(a, number_1, b, number_2, c))\n"
      ],
      "execution_count": null,
      "outputs": []
    }
  ]
}