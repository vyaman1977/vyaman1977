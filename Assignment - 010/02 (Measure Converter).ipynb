{
  "nbformat": 4,
  "nbformat_minor": 0,
  "metadata": {
    "colab": {
      "name": "Untitled3.ipynb",
      "provenance": [],
      "authorship_tag": "ABX9TyPnTotehtE0eh44+DDzpRsp",
      "include_colab_link": true
    },
    "kernelspec": {
      "name": "python3",
      "display_name": "Python 3"
    },
    "language_info": {
      "name": "python"
    }
  },
  "cells": [
    {
      "cell_type": "markdown",
      "metadata": {
        "id": "view-in-github",
        "colab_type": "text"
      },
      "source": [
        "<a href=\"https://colab.research.google.com/github/vyaman1977/vyaman1977/blob/main/Assignment%20-%20010/02%20(Measure%20Converter).ipynb\" target=\"_parent\"><img src=\"https://colab.research.google.com/assets/colab-badge.svg\" alt=\"Open In Colab\"/></a>"
      ]
    },
    {
      "cell_type": "code",
      "metadata": {
        "id": "n5yqSHjIvFdK"
      },
      "source": [
        "celsius=float(input(\"Enter temperature in celsius :\"))\n",
        "print(\"Fahrenheit degree:\",celsius * 1.8 + 32)\n",
        "\n",
        "kilometers=float(input(\"Enter distance in kilometers :\"))\n",
        "print(\"Miles distance:\",kilometers * 0.62137119)\n"
      ],
      "execution_count": null,
      "outputs": []
    }
  ]
}