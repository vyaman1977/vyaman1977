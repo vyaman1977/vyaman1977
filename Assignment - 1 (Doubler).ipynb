{
  "nbformat": 4,
  "nbformat_minor": 0,
  "metadata": {
    "colab": {
      "name": "Untitled14.ipynb",
      "provenance": [],
      "authorship_tag": "ABX9TyM3OFUQKAQKpEtXI+Kf4GzR",
      "include_colab_link": true
    },
    "kernelspec": {
      "name": "python3",
      "display_name": "Python 3"
    },
    "language_info": {
      "name": "python"
    }
  },
  "cells": [
    {
      "cell_type": "markdown",
      "metadata": {
        "id": "view-in-github",
        "colab_type": "text"
      },
      "source": [
        "<a href=\"https://colab.research.google.com/github/vyaman1977/vyaman1977/blob/main/Assignment%20-%201%20(Doubler).ipynb\" target=\"_parent\"><img src=\"https://colab.research.google.com/assets/colab-badge.svg\" alt=\"Open In Colab\"/></a>"
      ]
    },
    {
      "cell_type": "code",
      "metadata": {
        "id": "2gA-0mza6wqf"
      },
      "source": [
        "# Given two integer values, return their sum. \n",
        "# If the two values are the same, then return double their sum.\n",
        "def sum_double(x, y):\n",
        "  if x != y :\n",
        "      return x + y\n",
        "  else :\n",
        "      return (x + y) * 2"
      ],
      "execution_count": 9,
      "outputs": []
    }
  ]
}