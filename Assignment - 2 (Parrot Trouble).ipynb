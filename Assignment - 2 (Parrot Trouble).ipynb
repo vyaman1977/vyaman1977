{
  "nbformat": 4,
  "nbformat_minor": 0,
  "metadata": {
    "colab": {
      "name": "Untitled13.ipynb",
      "provenance": [],
      "authorship_tag": "ABX9TyN/7BJCw5fMze5mrjIADpa5",
      "include_colab_link": true
    },
    "kernelspec": {
      "name": "python3",
      "display_name": "Python 3"
    },
    "language_info": {
      "name": "python"
    }
  },
  "cells": [
    {
      "cell_type": "markdown",
      "metadata": {
        "id": "view-in-github",
        "colab_type": "text"
      },
      "source": [
        "<a href=\"https://colab.research.google.com/github/vyaman1977/vyaman1977/blob/main/Assignment%20-%202%20(Parrot%20Trouble).ipynb\" target=\"_parent\"><img src=\"https://colab.research.google.com/assets/colab-badge.svg\" alt=\"Open In Colab\"/></a>"
      ]
    },
    {
      "cell_type": "code",
      "metadata": {
        "id": "noPV8gnazx2O"
      },
      "source": [
        "# We have a loud talking parrot. \n",
        "# We are in trouble if the parrot is talking and the hour is before 6 or after 21.\n",
        "# Define a function taking two parameters (talking and hour) to return True if we are in trouble. \n",
        "# The argument to  talking parameter can only be True or False whether it is talking or not. \n",
        "# The argument to hour parameter should be the current hour time in the range of 0 to 23.\n",
        "def parrot_trouble(talking, hour):\n",
        "    if talking == True and (hour < 6 and hour < 21):\n",
        "       return True\n",
        "    else:\n",
        "       return False"
      ],
      "execution_count": 13,
      "outputs": []
    },
    {
      "cell_type": "code",
      "metadata": {
        "id": "RuUa-7MP3rPs"
      },
      "source": [
        ""
      ],
      "execution_count": null,
      "outputs": []
    }
  ]
}