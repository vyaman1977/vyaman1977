{
  "nbformat": 4,
  "nbformat_minor": 0,
  "metadata": {
    "colab": {
      "name": "Untitled9.ipynb",
      "provenance": [],
      "authorship_tag": "ABX9TyNdCt4bkQYReoJDdK3mkszM",
      "include_colab_link": true
    },
    "kernelspec": {
      "name": "python3",
      "display_name": "Python 3"
    },
    "language_info": {
      "name": "python"
    }
  },
  "cells": [
    {
      "cell_type": "markdown",
      "metadata": {
        "id": "view-in-github",
        "colab_type": "text"
      },
      "source": [
        "<a href=\"https://colab.research.google.com/github/vyaman1977/vyaman1977/blob/main/Assignment%20-%2010/05%20(Fibonacci%20Numbers).ipynb\" target=\"_parent\"><img src=\"https://colab.research.google.com/assets/colab-badge.svg\" alt=\"Open In Colab\"/></a>"
      ]
    },
    {
      "cell_type": "code",
      "metadata": {
        "id": "maZPmPH3xOXj"
      },
      "source": [
        "# Task: Create a list consisting of Fibonacci numbers from 1 to 55 using control flow statements.\n",
        "# The desired output is like : fibonacci →  [1, 1, 2, 3, 5, 8, 13, 21, 34, 55]\n",
        "# Fibonacci: It is the series of numbers obtained by adding each number with the previous number.\n",
        "fibonacci = [1, 1]\n",
        "while True :\n",
        "  number = fibonacci [-1] + fibonacci [-2]\n",
        "  fibonacci.append(number)\n",
        "  if fibonacci [-1] == 55 :\n",
        "    break\n",
        "print(\"Fibonacci numbers from 1 to 55 =\", fibonacci)"
      ],
      "execution_count": null,
      "outputs": []
    }
  ]
}