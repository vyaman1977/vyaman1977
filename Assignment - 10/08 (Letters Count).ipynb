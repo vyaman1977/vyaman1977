{
  "nbformat": 4,
  "nbformat_minor": 0,
  "metadata": {
    "colab": {
      "name": "Untitled19.ipynb",
      "provenance": [],
      "authorship_tag": "ABX9TyNLBgeHBaGPWNx/8OCtqdoF",
      "include_colab_link": true
    },
    "kernelspec": {
      "name": "python3",
      "display_name": "Python 3"
    },
    "language_info": {
      "name": "python"
    }
  },
  "cells": [
    {
      "cell_type": "markdown",
      "metadata": {
        "id": "view-in-github",
        "colab_type": "text"
      },
      "source": [
        "<a href=\"https://colab.research.google.com/github/vyaman1977/vyaman1977/blob/main/Assignment%20-%2010/08%20(Letters%20Count).ipynb\" target=\"_parent\"><img src=\"https://colab.research.google.com/assets/colab-badge.svg\" alt=\"Open In Colab\"/></a>"
      ]
    },
    {
      "cell_type": "code",
      "source": [
        "# takes a sentence from the user,\n",
        "# counts the number of each letter of the sentence,\n",
        "# collects the letters/chars as a key and the counted numbers as a value in a dictionary.\n",
        "def letters_count(sentence):\n",
        "    dict = {}\n",
        "    for n in sentence:\n",
        "        keys = dict.keys()\n",
        "        if n in keys:\n",
        "            dict[n] += 1\n",
        "        else:\n",
        "            dict[n] = 1\n",
        "    return dict\n",
        "sentence = input(\"Enter a sentence :\")\n",
        "print(letters_count(sentence))"
      ],
      "metadata": {
        "id": "SI62Lebxkf-H"
      },
      "execution_count": null,
      "outputs": []
    }
  ]
}