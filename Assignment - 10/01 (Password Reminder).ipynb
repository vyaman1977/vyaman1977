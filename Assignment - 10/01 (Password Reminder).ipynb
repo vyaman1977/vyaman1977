{
  "nbformat": 4,
  "nbformat_minor": 0,
  "metadata": {
    "colab": {
      "name": "Untitled5.ipynb",
      "provenance": [],
      "authorship_tag": "ABX9TyMri55FZwj67KQ2djQeZiox",
      "include_colab_link": true
    },
    "kernelspec": {
      "name": "python3",
      "display_name": "Python 3"
    },
    "language_info": {
      "name": "python"
    }
  },
  "cells": [
    {
      "cell_type": "markdown",
      "metadata": {
        "id": "view-in-github",
        "colab_type": "text"
      },
      "source": [
        "<a href=\"https://colab.research.google.com/github/vyaman1977/vyaman1977/blob/main/Assignment%20-%2010/01%20(Password%20Reminder).ipynb\" target=\"_parent\"><img src=\"https://colab.research.google.com/assets/colab-badge.svg\" alt=\"Open In Colab\"/></a>"
      ]
    },
    {
      "cell_type": "code",
      "metadata": {
        "id": "wxTeTSJBvmti"
      },
      "source": [
        "username = \"Volkan\"\n",
        "password = \"yaman01\"\n",
        "username1 = input(\"Enter your username: \")\n",
        "if (username1 == username):\n",
        "  print(\"Hello, Volkan! The password is: yaman01\")\n",
        "else:\n",
        "  print(\"Hello, X! See you later.\")\n"
      ],
      "execution_count": null,
      "outputs": []
    }
  ]
}