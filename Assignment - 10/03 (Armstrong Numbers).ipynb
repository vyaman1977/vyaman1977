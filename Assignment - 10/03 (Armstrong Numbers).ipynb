{
  "nbformat": 4,
  "nbformat_minor": 0,
  "metadata": {
    "colab": {
      "name": "Untitled7.ipynb",
      "provenance": [],
      "authorship_tag": "ABX9TyPMnvwdBXVye6McsXJrgjUp",
      "include_colab_link": true
    },
    "kernelspec": {
      "name": "python3",
      "display_name": "Python 3"
    },
    "language_info": {
      "name": "python"
    }
  },
  "cells": [
    {
      "cell_type": "markdown",
      "metadata": {
        "id": "view-in-github",
        "colab_type": "text"
      },
      "source": [
        "<a href=\"https://colab.research.google.com/github/vyaman1977/vyaman1977/blob/main/Assignment%20-%2010/03%20(Armstrong%20Numbers).ipynb\" target=\"_parent\"><img src=\"https://colab.research.google.com/assets/colab-badge.svg\" alt=\"Open In Colab\"/></a>"
      ]
    },
    {
      "cell_type": "code",
      "metadata": {
        "id": "POZa-1iJweLD"
      },
      "source": [
        "# 371 is an Armstrong Number since 3**3 + 7**3 + 1**3 = 371\n",
        "# 9474 = 9**4 + 4**4 + 7**4 + 4**4\n",
        "# 93084 = 9**5 + 3**5 + 0**5 + 8**5 + 4**5\n",
        "number = input(\"Please enter a positive integer number :\")\n",
        "if number.isdigit() and int(number) > 0:\n",
        "  length = len(number)\n",
        "  sum=0\n",
        "  for integer in number:\n",
        "      integer = int(integer)\n",
        "      sum += integer ** length\n",
        "  if int(number) == sum:\n",
        "     print(\"This is an Armstrong Number.\")\n",
        "  else:\n",
        "     print(\"This is not an Armstrong Number.\")\n",
        "else:\n",
        "  print(\"It is an invalid entry. Don't use non-numeric, float, or negative values!\")\n"
      ],
      "execution_count": null,
      "outputs": []
    }
  ]
}