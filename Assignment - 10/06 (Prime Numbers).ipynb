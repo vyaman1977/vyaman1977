{
  "nbformat": 4,
  "nbformat_minor": 0,
  "metadata": {
    "colab": {
      "name": "Untitled10.ipynb",
      "provenance": [],
      "authorship_tag": "ABX9TyPjU8Fl+f1DNZR1Z3EDLeub",
      "include_colab_link": true
    },
    "kernelspec": {
      "name": "python3",
      "display_name": "Python 3"
    },
    "language_info": {
      "name": "python"
    }
  },
  "cells": [
    {
      "cell_type": "markdown",
      "metadata": {
        "id": "view-in-github",
        "colab_type": "text"
      },
      "source": [
        "<a href=\"https://colab.research.google.com/github/vyaman1977/vyaman1977/blob/main/Assignment%20-%2010/06%20(Prime%20Numbers).ipynb\" target=\"_parent\"><img src=\"https://colab.research.google.com/assets/colab-badge.svg\" alt=\"Open In Colab\"/></a>"
      ]
    },
    {
      "cell_type": "code",
      "metadata": {
        "id": "xQ7QNqQDxiYW"
      },
      "source": [
        "number = int(input(\"Please enter a positive integer number :\"))\n",
        "prime_number = []\n",
        "for i in range(2, number+1):\n",
        "  for j in range (2, i):\n",
        "       if i % j == 0:\n",
        "           break\n",
        "  else :\n",
        "     prime_number += [i]\n",
        "print(prime_number)"
      ],
      "execution_count": null,
      "outputs": []
    }
  ]
}