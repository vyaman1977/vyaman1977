{
  "nbformat": 4,
  "nbformat_minor": 0,
  "metadata": {
    "colab": {
      "name": "Untitled6.ipynb",
      "provenance": [],
      "authorship_tag": "ABX9TyOVQ6q5irhyXfXMvN1TRD4c",
      "include_colab_link": true
    },
    "kernelspec": {
      "name": "python3",
      "display_name": "Python 3"
    },
    "language_info": {
      "name": "python"
    }
  },
  "cells": [
    {
      "cell_type": "markdown",
      "metadata": {
        "id": "view-in-github",
        "colab_type": "text"
      },
      "source": [
        "<a href=\"https://colab.research.google.com/github/vyaman1977/vyaman1977/blob/main/Assignment%20-%2010/02%20(Covid-19%20Risk%20with%20If%20Statements).ipynb\" target=\"_parent\"><img src=\"https://colab.research.google.com/assets/colab-badge.svg\" alt=\"Open In Colab\"/></a>"
      ]
    },
    {
      "cell_type": "code",
      "metadata": {
        "id": "xBveQSaSv0j6"
      },
      "source": [
        "age = input(\"Are you a cigarette addict older than 75 years old? :\") # Answer: Yes or No (pay attention to capitalization)\n",
        "chronic = input(\"Do you have a severe chronic disease? :\") # Answer: Yes or No (pay attention to capitalization)\n",
        "immute = input (\"Is your immune system too weak? :\") # Answer: Yes or No (pay attention to capitalization)\n",
        "risk = age or chronic or immune\n",
        "if risk == \"Yes\" :\n",
        "  print(\"You are in risky group\")\n",
        "else :\n",
        "    print(\"You are not in risky group\")\n"
      ],
      "execution_count": null,
      "outputs": []
    }
  ]
}