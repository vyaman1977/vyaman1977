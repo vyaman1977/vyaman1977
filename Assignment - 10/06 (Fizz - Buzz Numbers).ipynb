{
  "nbformat": 4,
  "nbformat_minor": 0,
  "metadata": {
    "colab": {
      "name": "Untitled18.ipynb",
      "provenance": [],
      "authorship_tag": "ABX9TyM2V9lcRF4YxUY73tGGynCV",
      "include_colab_link": true
    },
    "kernelspec": {
      "name": "python3",
      "display_name": "Python 3"
    },
    "language_info": {
      "name": "python"
    }
  },
  "cells": [
    {
      "cell_type": "markdown",
      "metadata": {
        "id": "view-in-github",
        "colab_type": "text"
      },
      "source": [
        "<a href=\"https://colab.research.google.com/github/vyaman1977/vyaman1977/blob/main/Assignment%20-%2010/06%20(Fizz%20-%20Buzz%20Numbers).ipynb\" target=\"_parent\"><img src=\"https://colab.research.google.com/assets/colab-badge.svg\" alt=\"Open In Colab\"/></a>"
      ]
    },
    {
      "cell_type": "code",
      "metadata": {
        "id": "a3GN114Mj_wl"
      },
      "source": [
        "# Print numbers from 1 to 100 inclusively following these instructions:\n",
        "# if a number is multiple of 3, print \"Fizz\" instead of this number,\n",
        "# if a number is multiple of 5, print \"Buzz\" instead of this number,\n",
        "# for numbers that are multiples of both 3 and 5, print \"FizzBuzz\",\n",
        "# print the rest of the numbers unchanged.\n",
        "for i in range(1, 100):\n",
        "    if i % 3 == 0 and i % 5 == 0:\n",
        "        print('FizzBuzz')\n",
        "    elif i % 3 == 0:\n",
        "        print('fizz')\n",
        "    elif i % 5 == 0:\n",
        "        print('buzz')\n",
        "    else:\n",
        "        print(i)"
      ],
      "execution_count": null,
      "outputs": []
    }
  ]
}