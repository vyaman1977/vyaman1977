{
  "nbformat": 4,
  "nbformat_minor": 0,
  "metadata": {
    "colab": {
      "name": "Untitled8.ipynb",
      "provenance": [],
      "authorship_tag": "ABX9TyOlKD8zffYd6V4KFiDY4H95",
      "include_colab_link": true
    },
    "kernelspec": {
      "name": "python3",
      "display_name": "Python 3"
    },
    "language_info": {
      "name": "python"
    }
  },
  "cells": [
    {
      "cell_type": "markdown",
      "metadata": {
        "id": "view-in-github",
        "colab_type": "text"
      },
      "source": [
        "<a href=\"https://colab.research.google.com/github/vyaman1977/vyaman1977/blob/main/Assignment%20-%2010/04%20(Is%20It%20a%20Prime%20Number%3F).ipynb\" target=\"_parent\"><img src=\"https://colab.research.google.com/assets/colab-badge.svg\" alt=\"Open In Colab\"/></a>"
      ]
    },
    {
      "cell_type": "code",
      "metadata": {
        "id": "O6zcZUa6w6HH"
      },
      "source": [
        "number = int(input(\"Please enter a positive integer number :\"))\n",
        "if number > 1 :\n",
        "  for i in range(2, number):\n",
        "       if (number % i) == 0:\n",
        "           print(number, \"is not a Prime Number.\")\n",
        "           break\n",
        "  else:\n",
        "     print(number, \"is a Prime Number.\")\n",
        "else:\n",
        "  print(number, \"is an invalid entry. Don't use negative values!\")"
      ],
      "execution_count": null,
      "outputs": []
    }
  ]
}